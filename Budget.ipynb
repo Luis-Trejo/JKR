{
 "cells": [
  {
   "cell_type": "code",
   "execution_count": 47,
   "metadata": {},
   "outputs": [],
   "source": [
    "import csv\n",
    "import os\n",
    "\n",
    "mainpath = \"D:/\"\n",
    "filename = \"budget_data.csv\"\n",
    "fullpath = os.path.join(mainpath, filename)\n",
    "\n",
    "input_file = csv.DictReader(open(fullpath))\n",
    "idk = csv.DictReader(open(fullpath))"
   ]
  },
  {
   "cell_type": "code",
   "execution_count": 48,
   "metadata": {},
   "outputs": [],
   "source": [
    "## avarege changes\n",
    "old = 0\n",
    "new = 0\n",
    "diferencia = 0\n",
    "lista = []\n",
    "## Greatest increst profits\n",
    "venta_mayor = None\n",
    "periodo_venta = None\n",
    "## Greatest decreast profits\n",
    "venta_menor = None\n",
    "periodo_venta_m = None\n",
    "\n",
    "for row in input_file:\n",
    "   new = int(row[\"Profit/Losses\"])\n",
    "   venta = int(row[\"Profit/Losses\"])\n",
    "   if new != old:\n",
    "      diferencia = new-old\n",
    "      old=new\n",
    "      lista.append(diferencia)\n",
    "   if venta_mayor == None or venta_mayor < venta:\n",
    "           venta_mayor = venta\n",
    "           periodo_venta = row[\"Date\"]\n",
    "   if venta_menor == None or venta_menor > venta:\n",
    "                   venta_menor = venta\n",
    "                   periodo_venta_m = row[\"Date\"]"
   ]
  },
  {
   "cell_type": "code",
   "execution_count": 55,
   "metadata": {},
   "outputs": [],
   "source": [
    "##number of months\n",
    "meses = len(lista)"
   ]
  },
  {
   "cell_type": "code",
   "execution_count": 34,
   "metadata": {},
   "outputs": [],
   "source": [
    "\n",
    "## ventas totales            \n",
    "total = sum(int(row[\"Profit/Losses\"]) for row in idk)\n"
   ]
  },
  {
   "cell_type": "code",
   "execution_count": 57,
   "metadata": {},
   "outputs": [],
   "source": [
    "## funcion promedio\n",
    "def promediarLista(lista):\n",
    "    sum=0.0\n",
    "    for i in range(0,len(lista)):\n",
    "        sum=sum+lista[i]\n",
    " \n",
    "    return sum/len(lista)"
   ]
  },
  {
   "cell_type": "code",
   "execution_count": 82,
   "metadata": {},
   "outputs": [
    {
     "name": "stdout",
     "output_type": "stream",
     "text": [
      "Total Months: 86\n",
      "Total: 38382578\n",
      "Avarege Change:7803.476744186047\n",
      "Gratest Increase in Profit: Feb-2012 $1170593\n",
      "Gratest Descrease in Profit:Sep-2013 $-1196225\n"
     ]
    }
   ],
   "source": [
    "print (\"Total Months: \" + str(meses))\n",
    "print (\"Total: \" + str(total))       \n",
    "print (\"Avarege Change:\" + str(promediarLista(lista)))\n",
    "print (\"Gratest Increase in Profit: \" + str(periodo_venta) + \" $\" + str(venta_mayor))\n",
    "print (\"Gratest Descrease in Profit:\" + str(periodo_venta_m) + \" $\" + str(venta_menor))"
   ]
  },
  {
   "cell_type": "code",
   "execution_count": null,
   "metadata": {},
   "outputs": [],
   "source": []
  }
 ],
 "metadata": {
  "kernelspec": {
   "display_name": "Python 3",
   "language": "python",
   "name": "python3"
  },
  "language_info": {
   "codemirror_mode": {
    "name": "ipython",
    "version": 3
   },
   "file_extension": ".py",
   "mimetype": "text/x-python",
   "name": "python",
   "nbconvert_exporter": "python",
   "pygments_lexer": "ipython3",
   "version": "3.7.1"
  }
 },
 "nbformat": 4,
 "nbformat_minor": 2
}
