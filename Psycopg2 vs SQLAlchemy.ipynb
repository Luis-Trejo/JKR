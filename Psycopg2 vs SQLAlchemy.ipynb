{
 "cells": [
  {
   "cell_type": "code",
   "execution_count": 1,
   "metadata": {},
   "outputs": [],
   "source": [
    "import numpy as np\n",
    "import pandas as pd\n",
    "from sqlalchemy import create_engine\n",
    "import psycopg2\n",
    "import time"
   ]
  },
  {
   "cell_type": "code",
   "execution_count": 4,
   "metadata": {},
   "outputs": [],
   "source": [
    "host = \"yopter.ccyy9l6xansm.us-east-1.redshift.amazonaws.com\"\n",
    "user = \"yopter\"\n",
    "password = \"R3x1q3tjk\"\n",
    "db = \"yopterdwh\"\n",
    "port = 5439\n",
    "\n",
    "alchemy_engine = \"postgresql://{}:{}@{}:5439/{}\".format(user, password, host, db)\n",
    "pg_engine = \"user='{}' password='{}' host='{}' port='{}' dbname='{}'\".format(user, password, host, port, db)"
   ]
  },
  {
   "cell_type": "code",
   "execution_count": 5,
   "metadata": {},
   "outputs": [
    {
     "name": "stdout",
     "output_type": "stream",
     "text": [
      "select * from public.places_interest\n",
      "alchemy , select * from public.places_interest , 2.5102790355682374\n",
      "pg , select * from public.places_interest , 1.8274925231933594\n",
      "select count(*) from public.places_interest\n",
      "alchemy , select count(*) from public.places_interest , 1.3486640691757201\n",
      "pg , select count(*) from public.places_interest , 0.5495896100997925\n"
     ]
    }
   ],
   "source": [
    "sql_queries = [\"select * from public.places_interest\",\n",
    "                \"select count(*) from public.places_interest\"]\n",
    "\n",
    "for sql_query in sql_queries:\n",
    "    print(sql_query)\n",
    "\n",
    "    for lib_type in [\"alchemy\", \"pg\"]:\n",
    "        t = []\n",
    "        for i in range(10):\n",
    "\n",
    "            start = time.time()\n",
    "\n",
    "            if lib_type == \"alchemy\":\n",
    "                engine = create_engine(alchemy_engine)\n",
    "                df = pd.read_sql_query(sql_query, engine)\n",
    "\n",
    "            elif lib_type == \"pg\":\n",
    "                conn = psycopg2.connect(pg_engine)\n",
    "                cur = conn.cursor()\n",
    "                cur.execute(sql_query)\n",
    "                df = pd.DataFrame(cur.fetchall())\n",
    "\n",
    "            end = time.time()\n",
    "\n",
    "            t += [end-start]\n",
    "\n",
    "\n",
    "        print(lib_type, \",\", sql_query, \",\", np.mean(t))"
   ]
  },
  {
   "cell_type": "code",
   "execution_count": null,
   "metadata": {},
   "outputs": [],
   "source": []
  }
 ],
 "metadata": {
  "kernelspec": {
   "display_name": "Python 3",
   "language": "python",
   "name": "python3"
  },
  "language_info": {
   "codemirror_mode": {
    "name": "ipython",
    "version": 3
   },
   "file_extension": ".py",
   "mimetype": "text/x-python",
   "name": "python",
   "nbconvert_exporter": "python",
   "pygments_lexer": "ipython3",
   "version": "3.7.1"
  }
 },
 "nbformat": 4,
 "nbformat_minor": 4
}
