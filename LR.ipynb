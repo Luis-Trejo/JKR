{
  "nbformat": 4,
  "nbformat_minor": 0,
  "metadata": {
    "colab": {
      "name": "Untitled7.ipynb",
      "provenance": [],
      "collapsed_sections": [],
      "include_colab_link": true
    },
    "kernelspec": {
      "name": "python3",
      "display_name": "Python 3"
    }
  },
  "cells": [
    {
      "cell_type": "markdown",
      "metadata": {
        "id": "view-in-github",
        "colab_type": "text"
      },
      "source": [
        "<a href=\"https://colab.research.google.com/github/Luis-Trejo/JKR/blob/master/LR.ipynb\" target=\"_parent\"><img src=\"https://colab.research.google.com/assets/colab-badge.svg\" alt=\"Open In Colab\"/></a>"
      ]
    },
    {
      "cell_type": "markdown",
      "metadata": {
        "id": "KZgf4KBVhhJW",
        "colab_type": "text"
      },
      "source": [
        "*   y =  a +  b * x\n",
        "*   x = 100 valores distribuidos segun una N(1.5, 2.5)\n",
        "*   Ye = 5 + 1.9 * x + e\n",
        "*   e estara distribuido segun una N(0, 0.8)\n",
        "\n"
      ]
    },
    {
      "cell_type": "code",
      "metadata": {
        "id": "dgMDTLHBuVYG",
        "colab_type": "code",
        "colab": {}
      },
      "source": [
        "import pandas as pd\n",
        "import numpy as np"
      ],
      "execution_count": 0,
      "outputs": []
    },
    {
      "cell_type": "code",
      "metadata": {
        "id": "HykE_lcBhdB2",
        "colab_type": "code",
        "colab": {}
      },
      "source": [
        "x =  1.5 + 2.5 * np.random.randn(100)"
      ],
      "execution_count": 0,
      "outputs": []
    },
    {
      "cell_type": "code",
      "metadata": {
        "id": "FSyVmnK6irhu",
        "colab_type": "code",
        "colab": {}
      },
      "source": [
        "res = 0 + 0.8 * np.random.randn(100)"
      ],
      "execution_count": 0,
      "outputs": []
    },
    {
      "cell_type": "code",
      "metadata": {
        "id": "e8pnFE3Bi8zz",
        "colab_type": "code",
        "colab": {}
      },
      "source": [
        "y_pred = 5 + 1.9 * x\n",
        "y_act = 5 + 1.9 * x + res"
      ],
      "execution_count": 0,
      "outputs": []
    },
    {
      "cell_type": "code",
      "metadata": {
        "id": "fDHkJOusjXLq",
        "colab_type": "code",
        "colab": {}
      },
      "source": [
        "x_list = x.tolist()\n",
        "y_pred_list = y_pred.tolist()\n",
        "y_act_list = y_act.tolist()"
      ],
      "execution_count": 0,
      "outputs": []
    },
    {
      "cell_type": "code",
      "metadata": {
        "id": "GQ9dVQJGkMlc",
        "colab_type": "code",
        "colab": {}
      },
      "source": [
        "data = pd.DataFrame({\"X\" : x_list, \"Y_actual\" : y_act_list, \"Y_pred\" : y_pred_list})"
      ],
      "execution_count": 0,
      "outputs": []
    },
    {
      "cell_type": "code",
      "metadata": {
        "id": "ouNKjxP1lXYK",
        "colab_type": "code",
        "colab": {
          "base_uri": "https://localhost:8080/",
          "height": 204
        },
        "outputId": "c994b132-0d18-402a-e2e8-c547974c9c3c"
      },
      "source": [
        "data.head()"
      ],
      "execution_count": 13,
      "outputs": [
        {
          "output_type": "execute_result",
          "data": {
            "text/html": [
              "<div>\n",
              "<style scoped>\n",
              "    .dataframe tbody tr th:only-of-type {\n",
              "        vertical-align: middle;\n",
              "    }\n",
              "\n",
              "    .dataframe tbody tr th {\n",
              "        vertical-align: top;\n",
              "    }\n",
              "\n",
              "    .dataframe thead th {\n",
              "        text-align: right;\n",
              "    }\n",
              "</style>\n",
              "<table border=\"1\" class=\"dataframe\">\n",
              "  <thead>\n",
              "    <tr style=\"text-align: right;\">\n",
              "      <th></th>\n",
              "      <th>X</th>\n",
              "      <th>Y_actual</th>\n",
              "      <th>Y_pred</th>\n",
              "    </tr>\n",
              "  </thead>\n",
              "  <tbody>\n",
              "    <tr>\n",
              "      <th>0</th>\n",
              "      <td>3.972686</td>\n",
              "      <td>12.590159</td>\n",
              "      <td>12.548103</td>\n",
              "    </tr>\n",
              "    <tr>\n",
              "      <th>1</th>\n",
              "      <td>1.747198</td>\n",
              "      <td>7.215391</td>\n",
              "      <td>8.319676</td>\n",
              "    </tr>\n",
              "    <tr>\n",
              "      <th>2</th>\n",
              "      <td>2.716480</td>\n",
              "      <td>10.390948</td>\n",
              "      <td>10.161313</td>\n",
              "    </tr>\n",
              "    <tr>\n",
              "      <th>3</th>\n",
              "      <td>3.932518</td>\n",
              "      <td>12.799833</td>\n",
              "      <td>12.471785</td>\n",
              "    </tr>\n",
              "    <tr>\n",
              "      <th>4</th>\n",
              "      <td>-2.785541</td>\n",
              "      <td>-0.100135</td>\n",
              "      <td>-0.292529</td>\n",
              "    </tr>\n",
              "  </tbody>\n",
              "</table>\n",
              "</div>"
            ],
            "text/plain": [
              "          X   Y_actual     Y_pred\n",
              "0  3.972686  12.590159  12.548103\n",
              "1  1.747198   7.215391   8.319676\n",
              "2  2.716480  10.390948  10.161313\n",
              "3  3.932518  12.799833  12.471785\n",
              "4 -2.785541  -0.100135  -0.292529"
            ]
          },
          "metadata": {
            "tags": []
          },
          "execution_count": 13
        }
      ]
    },
    {
      "cell_type": "code",
      "metadata": {
        "id": "cj6RrwGblhqv",
        "colab_type": "code",
        "colab": {}
      },
      "source": [
        "import matplotlib.pyplot as plt"
      ],
      "execution_count": 0,
      "outputs": []
    },
    {
      "cell_type": "code",
      "metadata": {
        "id": "E06Wes4unV3x",
        "colab_type": "code",
        "colab": {}
      },
      "source": [
        "y_mean = [np.mean(y_act) for i in range(1, len(x_list) +  1)]"
      ],
      "execution_count": 0,
      "outputs": []
    },
    {
      "cell_type": "code",
      "metadata": {
        "id": "ObvlVh-9mL5-",
        "colab_type": "code",
        "colab": {
          "base_uri": "https://localhost:8080/",
          "height": 298
        },
        "outputId": "9cef037d-57aa-4e42-acff-fff30bf1045f"
      },
      "source": [
        "%matplotlib inline\n",
        "plt.plot(x,y_pred)\n",
        "plt.plot(x, y_act, \"ro\")\n",
        "plt.plot(x, y_mean, \"g\")\n",
        "plt .title(\"Valor actual vs Prediccion\")"
      ],
      "execution_count": 21,
      "outputs": [
        {
          "output_type": "execute_result",
          "data": {
            "text/plain": [
              "Text(0.5, 1.0, 'Valor actual vs Prediccion')"
            ]
          },
          "metadata": {
            "tags": []
          },
          "execution_count": 21
        },
        {
          "output_type": "display_data",
          "data": {
            "image/png": "[encoded data removed]",
            "text/plain": [
              "<Figure size 432x288 with 1 Axes>"
            ]
          },
          "metadata": {
            "tags": []
          }
        }
      ]
    },
    {
      "cell_type": "code",
      "metadata": {
        "id": "TiuPvOejmn3Z",
        "colab_type": "code",
        "colab": {}
      },
      "source": [
        "data[\"SSR\"] = (data[\"Y_pred\"] - np.mean(y_act)) ** 2\n",
        "data[\"SSD\"] = (data[\"Y_pred\"] - data[\"Y_actual\"]) ** 2\n",
        "data[\"SST\"] = (data[\"Y_actual\"] - np.mean(y_act)) ** 2"
      ],
      "execution_count": 0,
      "outputs": []
    },
    {
      "cell_type": "code",
      "metadata": {
        "id": "7Q05CYWPschL",
        "colab_type": "code",
        "colab": {
          "base_uri": "https://localhost:8080/",
          "height": 204
        },
        "outputId": "293685f6-52f8-4a4b-a76d-798cd1918d7c"
      },
      "source": [
        "data.head()\n"
      ],
      "execution_count": 23,
      "outputs": [
        {
          "output_type": "execute_result",
          "data": {
            "text/html": [
              "<div>\n",
              "<style scoped>\n",
              "    .dataframe tbody tr th:only-of-type {\n",
              "        vertical-align: middle;\n",
              "    }\n",
              "\n",
              "    .dataframe tbody tr th {\n",
              "        vertical-align: top;\n",
              "    }\n",
              "\n",
              "    .dataframe thead th {\n",
              "        text-align: right;\n",
              "    }\n",
              "</style>\n",
              "<table border=\"1\" class=\"dataframe\">\n",
              "  <thead>\n",
              "    <tr style=\"text-align: right;\">\n",
              "      <th></th>\n",
              "      <th>X</th>\n",
              "      <th>Y_actual</th>\n",
              "      <th>Y_pred</th>\n",
              "      <th>SSR</th>\n",
              "      <th>SSD</th>\n",
              "      <th>SST</th>\n",
              "    </tr>\n",
              "  </thead>\n",
              "  <tbody>\n",
              "    <tr>\n",
              "      <th>0</th>\n",
              "      <td>3.972686</td>\n",
              "      <td>12.590159</td>\n",
              "      <td>12.548103</td>\n",
              "      <td>14.040886</td>\n",
              "      <td>0.001769</td>\n",
              "      <td>14.357831</td>\n",
              "    </tr>\n",
              "    <tr>\n",
              "      <th>1</th>\n",
              "      <td>1.747198</td>\n",
              "      <td>7.215391</td>\n",
              "      <td>8.319676</td>\n",
              "      <td>0.231660</td>\n",
              "      <td>1.219447</td>\n",
              "      <td>2.514114</td>\n",
              "    </tr>\n",
              "    <tr>\n",
              "      <th>2</th>\n",
              "      <td>2.716480</td>\n",
              "      <td>10.390948</td>\n",
              "      <td>10.161313</td>\n",
              "      <td>1.850487</td>\n",
              "      <td>0.052733</td>\n",
              "      <td>2.527979</td>\n",
              "    </tr>\n",
              "    <tr>\n",
              "      <th>3</th>\n",
              "      <td>3.932518</td>\n",
              "      <td>12.799833</td>\n",
              "      <td>12.471785</td>\n",
              "      <td>13.474762</td>\n",
              "      <td>0.107615</td>\n",
              "      <td>15.990770</td>\n",
              "    </tr>\n",
              "    <tr>\n",
              "      <th>4</th>\n",
              "      <td>-2.785541</td>\n",
              "      <td>-0.100135</td>\n",
              "      <td>-0.292529</td>\n",
              "      <td>82.692020</td>\n",
              "      <td>0.037015</td>\n",
              "      <td>79.229963</td>\n",
              "    </tr>\n",
              "  </tbody>\n",
              "</table>\n",
              "</div>"
            ],
            "text/plain": [
              "          X   Y_actual     Y_pred        SSR       SSD        SST\n",
              "0  3.972686  12.590159  12.548103  14.040886  0.001769  14.357831\n",
              "1  1.747198   7.215391   8.319676   0.231660  1.219447   2.514114\n",
              "2  2.716480  10.390948  10.161313   1.850487  0.052733   2.527979\n",
              "3  3.932518  12.799833  12.471785  13.474762  0.107615  15.990770\n",
              "4 -2.785541  -0.100135  -0.292529  82.692020  0.037015  79.229963"
            ]
          },
          "metadata": {
            "tags": []
          },
          "execution_count": 23
        }
      ]
    },
    {
      "cell_type": "code",
      "metadata": {
        "id": "ldsFuv-dsfDb",
        "colab_type": "code",
        "colab": {}
      },
      "source": [
        "SSR = sum(data[\"SSR\"]) \n",
        "SSD = sum(data[\"SSD\"])\n",
        "SST = sum(data[\"SST\"])"
      ],
      "execution_count": 0,
      "outputs": []
    },
    {
      "cell_type": "code",
      "metadata": {
        "id": "fhs_BqNTtQqW",
        "colab_type": "code",
        "colab": {
          "base_uri": "https://localhost:8080/",
          "height": 34
        },
        "outputId": "becc32f5-48d7-4154-f1e4-c085e9fe763c"
      },
      "source": [
        "SSR"
      ],
      "execution_count": 26,
      "outputs": [
        {
          "output_type": "execute_result",
          "data": {
            "text/plain": [
              "2102.5245736463976"
            ]
          },
          "metadata": {
            "tags": []
          },
          "execution_count": 26
        }
      ]
    },
    {
      "cell_type": "code",
      "metadata": {
        "id": "2ureUYr3taBN",
        "colab_type": "code",
        "colab": {
          "base_uri": "https://localhost:8080/",
          "height": 34
        },
        "outputId": "e4a80009-7007-418f-f70f-37b7b02b3123"
      },
      "source": [
        "SSD"
      ],
      "execution_count": 27,
      "outputs": [
        {
          "output_type": "execute_result",
          "data": {
            "text/plain": [
              "70.87275337528305"
            ]
          },
          "metadata": {
            "tags": []
          },
          "execution_count": 27
        }
      ]
    },
    {
      "cell_type": "code",
      "metadata": {
        "id": "zMqrJma1tfKG",
        "colab_type": "code",
        "colab": {
          "base_uri": "https://localhost:8080/",
          "height": 34
        },
        "outputId": "a7b59743-b8ab-4fe9-e567-83273c8ebb91"
      },
      "source": [
        "SST"
      ],
      "execution_count": 28,
      "outputs": [
        {
          "output_type": "execute_result",
          "data": {
            "text/plain": [
              "2166.601935261637"
            ]
          },
          "metadata": {
            "tags": []
          },
          "execution_count": 28
        }
      ]
    },
    {
      "cell_type": "code",
      "metadata": {
        "id": "RowOxiC7thUz",
        "colab_type": "code",
        "colab": {
          "base_uri": "https://localhost:8080/",
          "height": 34
        },
        "outputId": "569aa3b9-fa01-42a0-822e-fbf43189475b"
      },
      "source": [
        "SSR + SSD"
      ],
      "execution_count": 29,
      "outputs": [
        {
          "output_type": "execute_result",
          "data": {
            "text/plain": [
              "2173.3973270216807"
            ]
          },
          "metadata": {
            "tags": []
          },
          "execution_count": 29
        }
      ]
    },
    {
      "cell_type": "code",
      "metadata": {
        "id": "iHm5X4RItkrH",
        "colab_type": "code",
        "colab": {}
      },
      "source": [
        "R2 = SSR/SST"
      ],
      "execution_count": 0,
      "outputs": []
    },
    {
      "cell_type": "code",
      "metadata": {
        "id": "RIy4Ayxvt7pF",
        "colab_type": "code",
        "colab": {
          "base_uri": "https://localhost:8080/",
          "height": 34
        },
        "outputId": "0aae0b03-d673-4527-fe60-96be53811f40"
      },
      "source": [
        "R2"
      ],
      "execution_count": 31,
      "outputs": [
        {
          "output_type": "execute_result",
          "data": {
            "text/plain": [
              "0.9704249495154718"
            ]
          },
          "metadata": {
            "tags": []
          },
          "execution_count": 31
        }
      ]
    },
    {
      "cell_type": "code",
      "metadata": {
        "id": "qZ3ew-kGt96h",
        "colab_type": "code",
        "colab": {
          "base_uri": "https://localhost:8080/",
          "height": 354
        },
        "outputId": "d96c9d12-ceb3-49d4-e463-65c6c2e54923"
      },
      "source": [
        "plt.hist(data[\"Y_pred\"] - data[\"Y_actual\"])"
      ],
      "execution_count": 34,
      "outputs": [
        {
          "output_type": "execute_result",
          "data": {
            "text/plain": [
              "(array([ 2.,  3.,  8., 14., 18., 24., 16.,  8.,  6.,  1.]),\n",
              " array([-2.43387694, -1.99744429, -1.56101164, -1.12457898, -0.68814633,\n",
              "        -0.25171367,  0.18471898,  0.62115164,  1.05758429,  1.49401694,\n",
              "         1.9304496 ]),\n",
              " <a list of 10 Patch objects>)"
            ]
          },
          "metadata": {
            "tags": []
          },
          "execution_count": 34
        },
        {
          "output_type": "display_data",
          "data": {
            "image/png": "[encoded data removed]",
            "text/plain": [
              "<Figure size 432x288 with 1 Axes>"
            ]
          },
          "metadata": {
            "tags": []
          }
        }
      ]
    },
    {
      "cell_type": "code",
      "metadata": {
        "id": "Fb8LMNCSuKbK",
        "colab_type": "code",
        "colab": {}
      },
      "source": [
        " "
      ],
      "execution_count": 0,
      "outputs": []
    }
  ]
}